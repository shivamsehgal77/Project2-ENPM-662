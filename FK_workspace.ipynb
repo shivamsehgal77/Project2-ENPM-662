{
 "cells": [
  {
   "cell_type": "code",
   "execution_count": 19,
   "id": "e69f5caf",
   "metadata": {},
   "outputs": [],
   "source": [
    "#sympy library used to express matrices in terms of symbols\n",
    "# matplot lib used to plot the graph\n",
    "import numpy as np\n",
    "from sympy import *\n",
    "from IPython.display import Image,display,HTML\n",
    "import matplotlib.pyplot as plt\n",
    "from matplotlib import cm\n",
    "import numpy as np\n",
    "%matplotlib qt\n",
    "import math\n",
    "from mpl_toolkits.mplot3d.axes3d import get_test_data\n",
    "init_printing()\n",
    "\n",
    "thetadot,t=symbols('thetadot,t')\n",
    "theta,d,a,alpha=symbols('theta,d,a,alpha')\n",
    "d_1,d_3,d_5,d_7,a_3=symbols('d_1,d_3,d_5,d_7,a_3')\n",
    "theta_1,theta_2,theta_3,theta_4,theta_5,theta_6,theta_7=symbols('theta_1,theta_2,theta_3,theta_4,theta_5,theta_6,theta_7')\n",
    "Rot_z_theta=Matrix([[cos(theta),-sin(theta),0,0],\n",
    "                    [sin(theta),cos(theta),0,0],\n",
    "                    [0,0,1,0],\n",
    "                    [0,0,0,1]])\n",
    "Trans_z_d=Matrix([[1,0,0,0],\n",
    "                  [0,1,0,0],\n",
    "                  [0,0,1,d],\n",
    "                  [0,0,0,1]])\n",
    "Trans_x_a=Matrix([[1,0,0,a],\n",
    "                  [0,1,0,0],\n",
    "                  [0,0,1,0],\n",
    "                  [0,0,0,1]])\n",
    "Rot_x_alpha=Matrix([[1,0,0,0],\n",
    "                   [0,cos(alpha),-sin(alpha),0],\n",
    "                   [0,sin(alpha),cos(alpha),0],\n",
    "                   [0,0,0,1]])"
   ]
  },
  {
   "cell_type": "code",
   "execution_count": 20,
   "id": "d42fe9cf",
   "metadata": {},
   "outputs": [],
   "source": [
    "# Transfromation matrix for each frame\n",
    "A=Rot_x_alpha@Trans_x_a@Rot_z_theta@Trans_z_d"
   ]
  },
  {
   "cell_type": "code",
   "execution_count": 50,
   "id": "45641fc7",
   "metadata": {},
   "outputs": [],
   "source": [
    "    \n",
    "\n",
    "# Substituting values form DH table\n",
    "A_1=A.subs({theta:theta_1,d:0.089159,a:0,alpha:0})\n",
    "A_2=A.subs({theta:theta_2,d:0,a:0,alpha:pi/2})\n",
    "A_3=A.subs({theta:theta_3,d:0,a:0.425 ,alpha:0})\n",
    "A_4=A.subs({theta:theta_4,d:0.10915,a:0.39225,alpha:0})\n",
    "A_5=A.subs({theta:theta_5,d:0.09465,a:0,alpha:pi/2})\n",
    "A_6=A.subs({theta:theta_6,d:0.0823,a:0,alpha:-pi/2})\n",
    "\n",
    "\n"
   ]
  },
  {
   "cell_type": "code",
   "execution_count": 79,
   "id": "42f5c058",
   "metadata": {},
   "outputs": [],
   "source": [
    "# Transformation matrix for each frame with respect to origin\n",
    "\n",
    "\n",
    "\n",
    "T_1=A_1\n",
    "T_2=A_1*A_2\n",
    "T_3=A_1*A_2*A_3\n",
    "T_4=A_1*A_2*A_3*A_4\n",
    "T_5=A_1*A_2*A_3*A_4*A_5\n",
    "T_6=A_1*A_2*A_3*A_4*A_5*A_6\n",
    "T_6.subs({theta_1:0,\n",
    "    theta_2:0,\n",
    "    theta_3:0,\n",
    "    theta_4:0,\n",
    "    theta_5:0,\n",
    "    theta_6:0}).evalf()\n",
    "K=simplify(T_6)"
   ]
  },
  {
   "cell_type": "code",
   "execution_count": 83,
   "id": "28adba09",
   "metadata": {},
   "outputs": [
    {
     "data": {
      "text/latex": [
       "$\\displaystyle \\left[\\begin{matrix}1.0 & 0 & 0 & 0.81725\\\\0 & 0 & -1.0 & -0.19145\\\\0 & 1.0 & 0 & -0.005491\\\\0 & 0 & 0 & 1.0\\end{matrix}\\right]$"
      ],
      "text/plain": [
       "⎡1.0   0    0     0.81725 ⎤\n",
       "⎢                         ⎥\n",
       "⎢ 0    0   -1.0  -0.19145 ⎥\n",
       "⎢                         ⎥\n",
       "⎢ 0   1.0   0    -0.005491⎥\n",
       "⎢                         ⎥\n",
       "⎣ 0    0    0       1.0   ⎦"
      ]
     },
     "execution_count": 83,
     "metadata": {},
     "output_type": "execute_result"
    }
   ],
   "source": [
    "K.subs({theta_1:0,\n",
    "    theta_2:0,\n",
    "    theta_3:0,\n",
    "    theta_4:0,\n",
    "    theta_5:0,\n",
    "    theta_6:0}).evalf()"
   ]
  },
  {
   "cell_type": "code",
   "execution_count": 54,
   "id": "856e85dc",
   "metadata": {},
   "outputs": [
    {
     "data": {
      "text/latex": [
       "$\\displaystyle \\left[\\begin{matrix}0.54030230586814 & 0 & 0.841470984807897 & 0.602661679512209\\\\0.841470984807897 & 0 & -0.54030230586814 & 0.584251285875798\\\\0 & 1.0 & 0 & -0.005491\\\\0 & 0 & 0 & 1.0\\end{matrix}\\right]$"
      ],
      "text/plain": [
       "⎡0.54030230586814    0   0.841470984807897  0.602661679512209⎤\n",
       "⎢                                                            ⎥\n",
       "⎢0.841470984807897   0   -0.54030230586814  0.584251285875798⎥\n",
       "⎢                                                            ⎥\n",
       "⎢        0          1.0          0              -0.005491    ⎥\n",
       "⎢                                                            ⎥\n",
       "⎣        0           0           0                 1.0       ⎦"
      ]
     },
     "execution_count": 54,
     "metadata": {},
     "output_type": "execute_result"
    }
   ],
   "source": [
    "T_6.subs({theta_1:1,\n",
    "    theta_2:0,\n",
    "    theta_3:0,\n",
    "    theta_4:0,\n",
    "    theta_5:0,\n",
    "    theta_6:0}).evalf()"
   ]
  },
  {
   "cell_type": "code",
   "execution_count": 55,
   "id": "176aff39",
   "metadata": {},
   "outputs": [
    {
     "data": {
      "text/latex": [
       "$\\displaystyle \\left[\\begin{matrix}-0.416146836547142 & 0 & 0.909297426825682 & -0.166011009802375\\\\0.909297426825682 & 0 & 0.416146836547142 & 0.822794633930239\\\\0 & 1.0 & 0 & -0.005491\\\\0 & 0 & 0 & 1.0\\end{matrix}\\right]$"
      ],
      "text/plain": [
       "⎡-0.416146836547142   0   0.909297426825682  -0.166011009802375⎤\n",
       "⎢                                                              ⎥\n",
       "⎢0.909297426825682    0   0.416146836547142  0.822794633930239 ⎥\n",
       "⎢                                                              ⎥\n",
       "⎢        0           1.0          0              -0.005491     ⎥\n",
       "⎢                                                              ⎥\n",
       "⎣        0            0           0                 1.0        ⎦"
      ]
     },
     "execution_count": 55,
     "metadata": {},
     "output_type": "execute_result"
    }
   ],
   "source": [
    "T_6.subs({theta_1:2,\n",
    "    theta_2:0,\n",
    "    theta_3:0,\n",
    "    theta_4:0,\n",
    "    theta_5:0,\n",
    "    theta_6:0}).evalf()"
   ]
  },
  {
   "cell_type": "code",
   "execution_count": 73,
   "id": "b39cfccc",
   "metadata": {},
   "outputs": [],
   "source": [
    "x=[]\n",
    "y=[]\n",
    "z=[]\n",
    "i=0\n",
    "j=0\n",
    "k=0\n",
    "l=0\n",
    "m=0\n",
    "n=0\n",
    "H=[0,0.5,1,1.5,2,2.5,3]\n",
    "B=[2,0]\n",
    "x_=T_6[0,3]\n",
    "y_=T[1,3]\n",
    "z_=T[2,3]\n",
    "for i in H:\n",
    "    for j in H:\n",
    "        for k in H:\n",
    "            for l in B:\n",
    "                for m in B:\n",
    "                    for n in B:\n",
    "                        x.append(x_.subs({theta_1:i,\n",
    "    theta_2:j,\n",
    "    theta_3:k,\n",
    "    theta_4:l,\n",
    "    theta_5:m,\n",
    "    theta_6:n}).evalf())\n",
    "                        y.append(y_.subs({theta_1:i,\n",
    "    theta_2:j,\n",
    "    theta_3:k,\n",
    "    theta_4:l,\n",
    "    theta_5:m,\n",
    "    theta_6:n}).evalf())\n",
    "                        z.append(z_.subs({theta_1:i,\n",
    "    theta_2:j,\n",
    "    theta_3:k,\n",
    "    theta_4:l,\n",
    "    theta_5:m,\n",
    "    theta_6:n}).evalf())\n",
    "                        \n",
    "                    "
   ]
  },
  {
   "cell_type": "code",
   "execution_count": 63,
   "id": "96c0e68d",
   "metadata": {},
   "outputs": [
    {
     "data": {
      "image/png": "[encoded data removed]",
      "text/latex": [
       "$\\displaystyle 0.81725$"
      ],
      "text/plain": [
       "0.817250000000000"
      ]
     },
     "execution_count": 63,
     "metadata": {},
     "output_type": "execute_result"
    }
   ],
   "source": [
    "x_.subs({theta_1:0,\n",
    "    theta_2:j,\n",
    "    theta_3:k,\n",
    "    theta_4:l,\n",
    "    theta_5:m,\n",
    "    theta_6:n}).evalf()"
   ]
  },
  {
   "cell_type": "code",
   "execution_count": 75,
   "id": "6a48cc25",
   "metadata": {},
   "outputs": [],
   "source": [
    "ax = plt.axes(projection='3d')\n",
    "ax.scatter3D(x, y, z, color='green');"
   ]
  },
  {
   "cell_type": "code",
   "execution_count": 16,
   "id": "c18916ee",
   "metadata": {},
   "outputs": [
    {
     "data": {
      "image/png": "[encoded data removed]",
      "text/latex": [
       "$\\displaystyle 4096$"
      ],
      "text/plain": [
       "4096"
      ]
     },
     "execution_count": 16,
     "metadata": {},
     "output_type": "execute_result"
    }
   ],
   "source": [
    "len(x)"
   ]
  },
  {
   "cell_type": "code",
   "execution_count": null,
   "id": "de041e32",
   "metadata": {},
   "outputs": [],
   "source": [
    "y"
   ]
  },
  {
   "cell_type": "code",
   "execution_count": 62,
   "id": "02e25a53",
   "metadata": {},
   "outputs": [
    {
     "data": {
      "image/png": "[encoded data removed]",
      "text/latex": [
       "$\\displaystyle \\left[ 0.81725, \\  0.808990368070682, \\  0.602661679512209, \\  0.248780393248276, \\  -0.166011009802375, \\  -0.540157127817029, \\  -0.782053942303653\\right]$"
      ],
      "text/plain": [
       "[0.81725, 0.808990368070682, 0.602661679512209, 0.248780393248276, -0.16601100\n",
       "9802375, -0.540157127817029, -0.782053942303653]"
      ]
     },
     "execution_count": 62,
     "metadata": {},
     "output_type": "execute_result"
    }
   ],
   "source": [
    "z"
   ]
  },
  {
   "cell_type": "code",
   "execution_count": 11,
   "id": "1ca17f8a",
   "metadata": {},
   "outputs": [
    {
     "data": {
      "image/png": "[encoded data removed]",
      "text/latex": [
       "$\\displaystyle \\left[ -0.81725, \\  -0.81725, \\  -0.892085178227754, \\  -0.892085178227754, \\  -0.731184998550949, \\  -0.731184998550949, \\  -0.700042575869028, \\  -0.700042575869028, \\  -0.175701401915333, \\  -0.175701401915333, \\  -0.144558979233411, \\  -0.144558979233411, \\  -0.333397759545279, \\  -0.333397759545279, \\  -0.284482222680516, \\  -0.284482222680516, \\  0.426161003617203, \\  0.426161003617203, \\  0.457303426299124, \\  0.457303426299124, \\  0.268464645987257, \\  0.268464645987257, \\  0.317380182852019, \\  0.317380182852019, \\  0.361622759635392, \\  0.361622759635392, \\  0.410538296500154, \\  0.410538296500154, \\  0.406807438911759, \\  0.406807438911759, \\  0.334952924381286, \\  0.334952924381286, \\  0.514180994533929, \\  0.514180994533929, \\  0.439345816306175, \\  0.439345816306175, \\  0.478365316443481, \\  0.478365316443481, \\  0.359427894852311, \\  0.359427894852311, \\  0.24720257494974, \\  0.24720257494974, \\  0.12826515335857, \\  0.12826515335857, \\  0.312827415312449, \\  0.312827415312449, \\  0.186493768478498, \\  0.186493768478498, \\  -0.00326056114927752, \\  -0.00326056114927752, \\  -0.122197982740448, \\  -0.122197982740448, \\  0.0623642792134314, \\  0.0623642792134314, \\  -0.0639693676205195, \\  -0.0639693676205195, \\  0.0235968249200608, \\  0.0235968249200608, \\  -0.10273682191389, \\  -0.10273682191389, \\  0.00479336357880341, \\  0.00479336357880341, \\  -0.0712822084173843, \\  -0.0712822084173843\\right]$"
      ],
      "text/plain": [
       "[-0.81725, -0.81725, -0.892085178227754, -0.892085178227754, -0.73118499855094\n",
       "9, -0.731184998550949, -0.700042575869028, -0.700042575869028, -0.175701401915\n",
       "333, -0.175701401915333, -0.144558979233411, -0.144558979233411, -0.3333977595\n",
       "45279, -0.333397759545279, -0.284482222680516, -0.284482222680516, 0.426161003\n",
       "617203, 0.426161003617203, 0.457303426299124, 0.457303426299124, 0.26846464598\n",
       "7257, 0.268464645987257, 0.317380182852019, 0.317380182852019, 0.3616227596353\n",
       "92, 0.361622759635392, 0.410538296500154, 0.410538296500154, 0.406807438911759\n",
       ", 0.406807438911759, 0.334952924381286, 0.334952924381286, 0.514180994533929, \n",
       "0.514180994533929, 0.439345816306175, 0.439345816306175, 0.478365316443481, 0.\n",
       "478365316443481, 0.359427894852311, 0.359427894852311, 0.24720257494974, 0.247\n",
       "20257494974, 0.12826515335857, 0.12826515335857, 0.312827415312449, 0.31282741\n",
       "5312449, 0.186493768478498, 0.186493768478498, -0.00326056114927752, -0.003260\n",
       "56114927752, -0.122197982740448, -0.122197982740448, 0.0623642792134314, 0.062\n",
       "3642792134314, -0.0639693676205195, -0.0639693676205195, 0.0235968249200608, 0\n",
       ".0235968249200608, -0.10273682191389, -0.10273682191389, 0.00479336357880341, \n",
       "0.00479336357880341, -0.0712822084173843, -0.0712822084173843]"
      ]
     },
     "execution_count": 11,
     "metadata": {},
     "output_type": "execute_result"
    }
   ],
   "source": [
    "x"
   ]
  },
  {
   "cell_type": "code",
   "execution_count": 70,
   "id": "5a4339ab",
   "metadata": {},
   "outputs": [
    {
     "data": {
      "image/png": "[encoded data removed]",
      "text/latex": [
       "$\\displaystyle 0.81725$"
      ],
      "text/plain": [
       "0.817250000000000"
      ]
     },
     "execution_count": 70,
     "metadata": {},
     "output_type": "execute_result"
    }
   ],
   "source": [
    "x_.subs({theta_1:0,\n",
    "    theta_2:0,\n",
    "    theta_3:0,\n",
    "    theta_4:0,\n",
    "    theta_5:0,\n",
    "    theta_6:0}).evalf()"
   ]
  },
  {
   "cell_type": "code",
   "execution_count": 71,
   "id": "b1b7c6f4",
   "metadata": {},
   "outputs": [
    {
     "data": {
      "image/png": "[encoded data removed]",
      "text/latex": [
       "$\\displaystyle -0.19145$"
      ],
      "text/plain": [
       "-0.191450000000000"
      ]
     },
     "execution_count": 71,
     "metadata": {},
     "output_type": "execute_result"
    }
   ],
   "source": [
    "y_.subs({theta_1:0,\n",
    "    theta_2:0,\n",
    "    theta_3:0,\n",
    "    theta_4:0,\n",
    "    theta_5:0,\n",
    "    theta_6:0}).evalf()"
   ]
  },
  {
   "cell_type": "code",
   "execution_count": 72,
   "id": "0bcd6ff4",
   "metadata": {},
   "outputs": [
    {
     "data": {
      "image/png": "[encoded data removed]",
      "text/latex": [
       "$\\displaystyle -0.005491$"
      ],
      "text/plain": [
       "-0.00549100000000000"
      ]
     },
     "execution_count": 72,
     "metadata": {},
     "output_type": "execute_result"
    }
   ],
   "source": [
    "z_.subs({theta_1:0,\n",
    "    theta_2:0,\n",
    "    theta_3:0,\n",
    "    theta_4:0,\n",
    "    theta_5:0,\n",
    "    theta_6:0}).evalf()"
   ]
  },
  {
   "cell_type": "code",
   "execution_count": null,
   "id": "96107a21",
   "metadata": {},
   "outputs": [],
   "source": []
  }
 ],
 "metadata": {
  "kernelspec": {
   "display_name": "Python 3 (ipykernel)",
   "language": "python",
   "name": "python3"
  },
  "language_info": {
   "codemirror_mode": {
    "name": "ipython",
    "version": 3
   },
   "file_extension": ".py",
   "mimetype": "text/x-python",
   "name": "python",
   "nbconvert_exporter": "python",
   "pygments_lexer": "ipython3",
   "version": "3.9.12"
  }
 },
 "nbformat": 4,
 "nbformat_minor": 5
}
